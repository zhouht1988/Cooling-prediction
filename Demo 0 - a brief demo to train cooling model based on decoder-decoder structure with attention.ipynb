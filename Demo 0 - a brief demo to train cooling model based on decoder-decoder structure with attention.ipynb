{
 "cells": [
  {
   "cell_type": "markdown",
   "id": "cdec513e",
   "metadata": {},
   "source": [
    "## A brief model to show how to import the proposed model in the paper, how to get it trained and make predictions\n"
   ]
  },
  {
   "cell_type": "code",
   "execution_count": 1,
   "id": "9d894f7e",
   "metadata": {},
   "outputs": [],
   "source": [
    "import pickle\n",
    "import time\n",
    "import pandas as pd\n",
    "\n",
    "import torch\n",
    "import torch.nn as nn\n",
    "from torch.utils.data import Dataset\n",
    "from torch.utils.data import DataLoader\n",
    "from torch.utils.data.dataset import random_split\n",
    "import torch.optim as optim\n",
    "\n",
    "from enc_dec_with_atten import cooling_model ## The proposed model (Model I)\n",
    "# from enc_dec_without_atten import cooling_model ## The model without attention (Model II)"
   ]
  },
  {
   "cell_type": "code",
   "execution_count": 2,
   "id": "511658e9",
   "metadata": {},
   "outputs": [],
   "source": [
    "class CustomDataset(Dataset):\n",
    "    def __init__(self, data_input, data_output):\n",
    "\n",
    "        super(CustomDataset, self).__init__()\n",
    "        self.output_seq = data_output\n",
    "        self.input_seq = data_input\n",
    "        # self.transform = transform\n",
    "        #self.target_transform = target_transform\n",
    "        \n",
    "    def __len__(self):\n",
    "        return len(self.input_seq)\n",
    "    \n",
    "    \n",
    "    def __getitem__(self, idx):\n",
    "        input_seq = self.input_seq[idx, :, :]\n",
    "        output_seq = self.output_seq[idx, :, :]\n",
    "\n",
    "        return input_seq, output_seq"
   ]
  },
  {
   "cell_type": "code",
   "execution_count": 3,
   "id": "1d17fd6c",
   "metadata": {},
   "outputs": [],
   "source": [
    "def train_(model, iterator, optimizer, criterion, clip):\n",
    "    \n",
    "    model.train()\n",
    "    \n",
    "    epoch_loss = 0\n",
    "    \n",
    "    for i, (src, trg) in enumerate(iterator):\n",
    "               \n",
    "        device = model.device\n",
    "        src = src.to(device)\n",
    "        trg = trg.to(device)\n",
    "        \n",
    "        optimizer.zero_grad()\n",
    "        \n",
    "        output = model(src, trg).to(device)\n",
    "        \n",
    "        #trg = [trg len, batch size]\n",
    "        #output = [trg len, batch size, output dim]\n",
    "        \n",
    "        output_dim = output.shape[-1]\n",
    "        \n",
    "        # output = output[1:].view(-1, output_dim)\n",
    "        # trg = trg[1:].view(-1)\n",
    "        \n",
    "        #trg = [(trg len - 1) * batch size]\n",
    "        #output = [(trg len - 1) * batch size, output dim]\n",
    "        \n",
    "        loss = criterion(output, trg)\n",
    "        \n",
    "        loss.backward()\n",
    "        \n",
    "        torch.nn.utils.clip_grad_norm_(model.parameters(), clip)\n",
    "        \n",
    "        optimizer.step()\n",
    "        \n",
    "        epoch_loss += loss.item()\n",
    "        \n",
    "    return epoch_loss / len(iterator)"
   ]
  },
  {
   "cell_type": "code",
   "execution_count": 4,
   "id": "752ab789",
   "metadata": {},
   "outputs": [],
   "source": [
    "def evaluate_(model, iterator, criterion):\n",
    "    \n",
    "    model.eval()\n",
    "    \n",
    "    epoch_loss = 0\n",
    "    \n",
    "    with torch.no_grad():\n",
    "    \n",
    "        for i, (src, trg) in enumerate(iterator):\n",
    "\n",
    "            output = model(src, trg, 0) #turn off teacher forcing\n",
    "\n",
    "            #trg = [trg len, batch size]\n",
    "            #output = [trg len, batch size, output dim]\n",
    "\n",
    "            output_dim = output.shape[-1]\n",
    "            \n",
    "            # output = output[1:].view(-1, output_dim)\n",
    "            # trg = trg[1:].view(-1)\n",
    "\n",
    "            #trg = [(trg len - 1) * batch size]\n",
    "            #output = [(trg len - 1) * batch size, output dim]\n",
    "\n",
    "            loss = criterion(output, trg)\n",
    "\n",
    "            epoch_loss += loss.item()\n",
    "        \n",
    "    return epoch_loss / len(iterator), output"
   ]
  },
  {
   "cell_type": "code",
   "execution_count": 5,
   "id": "c0d307f7",
   "metadata": {},
   "outputs": [],
   "source": [
    "config = {\n",
    "    \"enc_hid_dim\": 20,\n",
    "    \"dec_hid_dim\": 20,\n",
    "    \"dropout\": 0.1,\n",
    "    \"data_dir\":r'.\\temp_data\\public_data.pt',\n",
    "    \"model_type\": 'GRU',\n",
    "    \"batch_size\": 128,\n",
    "    \"n_epochs\": 5,\n",
    "    \"device\": torch.device('cuda' if torch.cuda.is_available() else 'cpu'),\n",
    "    \"train_ratio\": 0.9,\n",
    "}"
   ]
  },
  {
   "cell_type": "code",
   "execution_count": 6,
   "id": "40ba9295",
   "metadata": {},
   "outputs": [],
   "source": [
    "device = config['device']\n",
    "data_dir = config['data_dir']\n",
    "### load data\n",
    "\n",
    "train_data_X, train_data_Y, test_data_X, test_data_Y = torch.load(config['data_dir'])['data']\n",
    "INPUT_DIM = train_data_X.shape[2]\n",
    "OUTPUT_DIM = train_data_Y.shape[2]\n",
    "BATCH_SIZE = config['batch_size']\n",
    "src_len = train_data_X.shape[1]\n",
    "trg_len = train_data_Y.shape[1]"
   ]
  },
  {
   "cell_type": "code",
   "execution_count": 7,
   "id": "464e5e16",
   "metadata": {},
   "outputs": [
    {
     "data": {
      "text/plain": [
       "torch.Size([8016, 24, 7])"
      ]
     },
     "execution_count": 7,
     "metadata": {},
     "output_type": "execute_result"
    }
   ],
   "source": [
    "## [batches, steps, input_dim]\n",
    "train_data_X.shape"
   ]
  },
  {
   "cell_type": "code",
   "execution_count": 8,
   "id": "7d390849",
   "metadata": {},
   "outputs": [],
   "source": [
    "train_data = CustomDataset(train_data_X, train_data_Y)\n",
    "test_data = CustomDataset(test_data_X, test_data_Y)\n",
    "\n",
    "num_train = int(len(train_data) * config['train_ratio'])\n",
    "split_train_, split_valid_ = random_split(train_data, [num_train, len(train_data) - num_train])\n",
    "\n",
    "train_dataloader = DataLoader(split_train_, batch_size=BATCH_SIZE, shuffle=False)\n",
    "valid_dataloader = DataLoader(split_valid_, batch_size=BATCH_SIZE, shuffle=False)\n",
    "test_dataloader = DataLoader(test_data, batch_size=len(test_data), shuffle=False)"
   ]
  },
  {
   "cell_type": "code",
   "execution_count": 9,
   "id": "1c0f9923",
   "metadata": {},
   "outputs": [],
   "source": [
    "## prepare model\n",
    "model = cooling_model(INPUT_DIM, OUTPUT_DIM, device, enc_hid_dim=config['enc_hid_dim'], dec_hid_dim=config['dec_hid_dim'],\n",
    "                  dropout=config['dropout'], model_type=config['model_type'])"
   ]
  },
  {
   "cell_type": "code",
   "execution_count": 10,
   "id": "2514056b",
   "metadata": {},
   "outputs": [],
   "source": [
    "epoch_loss = 0\n",
    "optimizer = optim.Adam(model.parameters())\n",
    "criterion=nn.MSELoss()\n",
    "N_EPOCHS = config['n_epochs']\n",
    "CLIP = 1  \n",
    "best_valid_loss = float('inf')"
   ]
  },
  {
   "cell_type": "code",
   "execution_count": 11,
   "id": "2e25eeb6",
   "metadata": {},
   "outputs": [
    {
     "name": "stdout",
     "output_type": "stream",
     "text": [
      "0\n",
      "1\n",
      "2\n",
      "3\n",
      "4\n"
     ]
    }
   ],
   "source": [
    "loss = []\n",
    "for epoch in range(N_EPOCHS):\n",
    "    print(epoch)\n",
    "    \n",
    "    train_loss = train_(model, train_dataloader, optimizer, criterion, CLIP)\n",
    "    valid_loss, output = evaluate_(model, valid_dataloader, criterion)\n",
    "    \n",
    "    loss.append([train_loss, valid_loss])\n",
    "    if valid_loss < best_valid_loss:\n",
    "        best_valid_loss = valid_loss\n",
    "        optimal_model = model"
   ]
  },
  {
   "cell_type": "code",
   "execution_count": 12,
   "id": "3d638b7d",
   "metadata": {},
   "outputs": [
    {
     "data": {
      "text/plain": [
       "<AxesSubplot:title={'center':'Error in training stage'}>"
      ]
     },
     "execution_count": 12,
     "metadata": {},
     "output_type": "execute_result"
    },
    {
     "data": {
      "image/png": "[encoded data removed]",
      "text/plain": [
       "<Figure size 432x288 with 1 Axes>"
      ]
     },
     "metadata": {
      "needs_background": "light"
     },
     "output_type": "display_data"
    }
   ],
   "source": [
    "loss = pd.DataFrame(loss, columns=['training loss', 'validating loss'])\n",
    "loss.plot(title='Error in training stage')"
   ]
  },
  {
   "cell_type": "code",
   "execution_count": 13,
   "id": "e284ac44",
   "metadata": {},
   "outputs": [],
   "source": [
    "## make prediction\n",
    "test_loss, output = evaluate_(model, test_dataloader, criterion)"
   ]
  },
  {
   "cell_type": "code",
   "execution_count": 14,
   "id": "8c424fb3",
   "metadata": {},
   "outputs": [
    {
     "data": {
      "text/plain": [
       "0.042880404740571976"
      ]
     },
     "execution_count": 14,
     "metadata": {},
     "output_type": "execute_result"
    }
   ],
   "source": [
    "test_loss"
   ]
  },
  {
   "cell_type": "code",
   "execution_count": 15,
   "id": "664618f6",
   "metadata": {},
   "outputs": [
    {
     "data": {
      "text/plain": [
       "torch.Size([2904, 24, 7])"
      ]
     },
     "execution_count": 15,
     "metadata": {},
     "output_type": "execute_result"
    }
   ],
   "source": [
    "output.shape"
   ]
  },
  {
   "cell_type": "code",
   "execution_count": null,
   "id": "86310f24",
   "metadata": {},
   "outputs": [],
   "source": []
  }
 ],
 "metadata": {
  "kernelspec": {
   "display_name": "Python 3",
   "language": "python",
   "name": "python3"
  },
  "language_info": {
   "codemirror_mode": {
    "name": "ipython",
    "version": 3
   },
   "file_extension": ".py",
   "mimetype": "text/x-python",
   "name": "python",
   "nbconvert_exporter": "python",
   "pygments_lexer": "ipython3",
   "version": "3.8.8"
  }
 },
 "nbformat": 4,
 "nbformat_minor": 5
}
