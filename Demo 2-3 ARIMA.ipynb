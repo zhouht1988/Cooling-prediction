{
 "cells": [
  {
   "cell_type": "code",
   "execution_count": 1,
   "id": "c1dfb388",
   "metadata": {},
   "outputs": [],
   "source": [
    "import os\n",
    "os.environ[\"KMP_DUPLICATE_LIB_OK\"]='TRUE'\n",
    "import numpy as np\n",
    "import pandas as pd\n",
    "import matplotlib.pyplot as plt\n",
    "from statsmodels.tsa.stattools import adfuller\n",
    "import pickle\n",
    "from statsmodels.graphics.tsaplots import plot_acf, plot_pacf\n",
    "import matplotlib.pyplot as plt\n",
    "\n",
    "from statsmodels.tsa.arima.model import ARIMA\n",
    "import copy\n",
    "import torch\n",
    "import matplotlib.pyplot as plt"
   ]
  },
  {
   "cell_type": "code",
   "execution_count": 2,
   "id": "17d2edab",
   "metadata": {},
   "outputs": [],
   "source": [
    "from sklearn.preprocessing import MinMaxScaler\n",
    "from sklearn.metrics import mean_squared_error\n",
    "from sklearn.metrics import mean_absolute_error\n",
    "from sklearn.metrics import mean_absolute_percentage_error"
   ]
  },
  {
   "cell_type": "code",
   "execution_count": 3,
   "id": "8704b440",
   "metadata": {},
   "outputs": [],
   "source": [
    "def test_stationarity(timeseries):\n",
    "    # Dickey-Fuller\n",
    "    print('Results of Dickey-Fuller Test:')\n",
    "    dftest = adfuller(timeseries, autolag='AIC')\n",
    "    dfoutput = pd.Series(dftest[0:4], index=['Test Statistic', 'p-value', '#Lags Used', 'Number of Observations Used'])\n",
    "    for key, value in dftest[4].items():\n",
    "        dfoutput['Critical Value (%s)' % key] = value\n",
    "    print(dfoutput)\n",
    "    \n",
    "def load_data(data_dir):\n",
    "    with open(data_dir, 'rb') as f:\n",
    "        train_data_X, train_data_Y, test_data_X, test_data_Y = pickle.load(f)\n",
    "    return train_data_X, train_data_Y, test_data_X, test_data_Y"
   ]
  },
  {
   "cell_type": "code",
   "execution_count": 5,
   "id": "e767121e",
   "metadata": {},
   "outputs": [],
   "source": [
    "config = {\n",
    "    \"data_dir\":'./temp_data/public_data.pt',\n",
    "}\n",
    "\n",
    "scaler = torch.load(config['data_dir'])['scaler']\n",
    "train_data_X, train_data_Y, test_data_X, test_data_Y = torch.load(config['data_dir'])['data']\n"
   ]
  },
  {
   "cell_type": "code",
   "execution_count": 6,
   "id": "5e6816f5",
   "metadata": {},
   "outputs": [
    {
     "data": {
      "text/plain": [
       "torch.Size([8012, 24, 11])"
      ]
     },
     "execution_count": 6,
     "metadata": {},
     "output_type": "execute_result"
    }
   ],
   "source": [
    "train_data_X.shape"
   ]
  },
  {
   "cell_type": "code",
   "execution_count": 7,
   "id": "2bb64264",
   "metadata": {},
   "outputs": [
    {
     "data": {
      "text/plain": [
       "torch.Size([2900, 24, 11])"
      ]
     },
     "execution_count": 7,
     "metadata": {},
     "output_type": "execute_result"
    }
   ],
   "source": [
    "test_data_X.shape"
   ]
  },
  {
   "cell_type": "code",
   "execution_count": 8,
   "id": "60103d30",
   "metadata": {},
   "outputs": [
    {
     "name": "stdout",
     "output_type": "stream",
     "text": [
      "Results of Dickey-Fuller Test:\n",
      "Test Statistic                -6.841092e+00\n",
      "p-value                        1.790470e-09\n",
      "#Lags Used                     2.700000e+01\n",
      "Number of Observations Used    7.984000e+03\n",
      "Critical Value (1%)           -3.431169e+00\n",
      "Critical Value (5%)           -2.861902e+00\n",
      "Critical Value (10%)          -2.566963e+00\n",
      "dtype: float64\n"
     ]
    }
   ],
   "source": [
    "### The last data of train_data_Y point to the end of Jun 30.\n",
    "train_data = pd.DataFrame(np.array(train_data_Y[:, 0, -1]), columns=['value'])\n",
    "### The first data of test_data_X is need to connect with train_data_Y\n",
    "test_data = pd.DataFrame(np.array(test_data_X[:, 0, -1]), columns=['value'])\n",
    "\n",
    "test_stationarity(train_data['value'])"
   ]
  },
  {
   "cell_type": "code",
   "execution_count": 9,
   "id": "a6d1f497",
   "metadata": {},
   "outputs": [
    {
     "data": {
      "text/html": [
       "<div>\n",
       "<style scoped>\n",
       "    .dataframe tbody tr th:only-of-type {\n",
       "        vertical-align: middle;\n",
       "    }\n",
       "\n",
       "    .dataframe tbody tr th {\n",
       "        vertical-align: top;\n",
       "    }\n",
       "\n",
       "    .dataframe thead th {\n",
       "        text-align: right;\n",
       "    }\n",
       "</style>\n",
       "<table border=\"1\" class=\"dataframe\">\n",
       "  <thead>\n",
       "    <tr style=\"text-align: right;\">\n",
       "      <th></th>\n",
       "      <th>value</th>\n",
       "    </tr>\n",
       "  </thead>\n",
       "  <tbody>\n",
       "    <tr>\n",
       "      <th>0</th>\n",
       "      <td>0.437966</td>\n",
       "    </tr>\n",
       "    <tr>\n",
       "      <th>1</th>\n",
       "      <td>0.387205</td>\n",
       "    </tr>\n",
       "    <tr>\n",
       "      <th>2</th>\n",
       "      <td>0.376647</td>\n",
       "    </tr>\n",
       "    <tr>\n",
       "      <th>3</th>\n",
       "      <td>0.390251</td>\n",
       "    </tr>\n",
       "    <tr>\n",
       "      <th>4</th>\n",
       "      <td>0.395124</td>\n",
       "    </tr>\n",
       "    <tr>\n",
       "      <th>...</th>\n",
       "      <td>...</td>\n",
       "    </tr>\n",
       "    <tr>\n",
       "      <th>8007</th>\n",
       "      <td>0.287599</td>\n",
       "    </tr>\n",
       "    <tr>\n",
       "      <th>8008</th>\n",
       "      <td>0.284124</td>\n",
       "    </tr>\n",
       "    <tr>\n",
       "      <th>8009</th>\n",
       "      <td>0.277621</td>\n",
       "    </tr>\n",
       "    <tr>\n",
       "      <th>8010</th>\n",
       "      <td>0.273351</td>\n",
       "    </tr>\n",
       "    <tr>\n",
       "      <th>8011</th>\n",
       "      <td>0.284205</td>\n",
       "    </tr>\n",
       "  </tbody>\n",
       "</table>\n",
       "<p>8012 rows × 1 columns</p>\n",
       "</div>"
      ],
      "text/plain": [
       "         value\n",
       "0     0.437966\n",
       "1     0.387205\n",
       "2     0.376647\n",
       "3     0.390251\n",
       "4     0.395124\n",
       "...        ...\n",
       "8007  0.287599\n",
       "8008  0.284124\n",
       "8009  0.277621\n",
       "8010  0.273351\n",
       "8011  0.284205\n",
       "\n",
       "[8012 rows x 1 columns]"
      ]
     },
     "execution_count": 9,
     "metadata": {},
     "output_type": "execute_result"
    }
   ],
   "source": [
    "train_data"
   ]
  },
  {
   "cell_type": "code",
   "execution_count": 10,
   "id": "574d89af",
   "metadata": {},
   "outputs": [
    {
     "data": {
      "text/html": [
       "<div>\n",
       "<style scoped>\n",
       "    .dataframe tbody tr th:only-of-type {\n",
       "        vertical-align: middle;\n",
       "    }\n",
       "\n",
       "    .dataframe tbody tr th {\n",
       "        vertical-align: top;\n",
       "    }\n",
       "\n",
       "    .dataframe thead th {\n",
       "        text-align: right;\n",
       "    }\n",
       "</style>\n",
       "<table border=\"1\" class=\"dataframe\">\n",
       "  <thead>\n",
       "    <tr style=\"text-align: right;\">\n",
       "      <th></th>\n",
       "      <th>value</th>\n",
       "    </tr>\n",
       "  </thead>\n",
       "  <tbody>\n",
       "    <tr>\n",
       "      <th>0</th>\n",
       "      <td>0.286469</td>\n",
       "    </tr>\n",
       "    <tr>\n",
       "      <th>1</th>\n",
       "      <td>0.281090</td>\n",
       "    </tr>\n",
       "    <tr>\n",
       "      <th>2</th>\n",
       "      <td>0.169198</td>\n",
       "    </tr>\n",
       "    <tr>\n",
       "      <th>3</th>\n",
       "      <td>0.206083</td>\n",
       "    </tr>\n",
       "    <tr>\n",
       "      <th>4</th>\n",
       "      <td>0.183075</td>\n",
       "    </tr>\n",
       "    <tr>\n",
       "      <th>...</th>\n",
       "      <td>...</td>\n",
       "    </tr>\n",
       "    <tr>\n",
       "      <th>2895</th>\n",
       "      <td>0.013161</td>\n",
       "    </tr>\n",
       "    <tr>\n",
       "      <th>2896</th>\n",
       "      <td>0.003515</td>\n",
       "    </tr>\n",
       "    <tr>\n",
       "      <th>2897</th>\n",
       "      <td>0.027927</td>\n",
       "    </tr>\n",
       "    <tr>\n",
       "      <th>2898</th>\n",
       "      <td>0.036481</td>\n",
       "    </tr>\n",
       "    <tr>\n",
       "      <th>2899</th>\n",
       "      <td>0.336838</td>\n",
       "    </tr>\n",
       "  </tbody>\n",
       "</table>\n",
       "<p>2900 rows × 1 columns</p>\n",
       "</div>"
      ],
      "text/plain": [
       "         value\n",
       "0     0.286469\n",
       "1     0.281090\n",
       "2     0.169198\n",
       "3     0.206083\n",
       "4     0.183075\n",
       "...        ...\n",
       "2895  0.013161\n",
       "2896  0.003515\n",
       "2897  0.027927\n",
       "2898  0.036481\n",
       "2899  0.336838\n",
       "\n",
       "[2900 rows x 1 columns]"
      ]
     },
     "execution_count": 10,
     "metadata": {},
     "output_type": "execute_result"
    }
   ],
   "source": [
    "test_data"
   ]
  },
  {
   "cell_type": "code",
   "execution_count": 11,
   "id": "affb2e0f",
   "metadata": {},
   "outputs": [
    {
     "data": {
      "text/plain": [
       "<AxesSubplot:>"
      ]
     },
     "execution_count": 11,
     "metadata": {},
     "output_type": "execute_result"
    },
    {
     "data": {
      "image/png": "[encoded data removed]",
      "text/plain": [
       "<Figure size 432x288 with 1 Axes>"
      ]
     },
     "metadata": {
      "needs_background": "light"
     },
     "output_type": "display_data"
    }
   ],
   "source": [
    "train_data.plot()"
   ]
  },
  {
   "cell_type": "markdown",
   "id": "fc17f9f9",
   "metadata": {},
   "source": []
  },
  {
   "cell_type": "code",
   "execution_count": 12,
   "id": "542b8adc",
   "metadata": {},
   "outputs": [
    {
     "name": "stderr",
     "output_type": "stream",
     "text": [
      "C:\\Users\\HAIZHO\\Anaconda3\\lib\\site-packages\\statsmodels\\tsa\\statespace\\sarimax.py:966: UserWarning: Non-stationary starting autoregressive parameters found. Using zeros as starting parameters.\n",
      "  warn('Non-stationary starting autoregressive parameters'\n",
      "C:\\Users\\HAIZHO\\Anaconda3\\lib\\site-packages\\statsmodels\\tsa\\statespace\\sarimax.py:978: UserWarning: Non-invertible starting MA parameters found. Using zeros as starting parameters.\n",
      "  warn('Non-invertible starting MA parameters found.'\n",
      "C:\\Users\\HAIZHO\\Anaconda3\\lib\\site-packages\\statsmodels\\base\\model.py:566: ConvergenceWarning: Maximum Likelihood optimization failed to converge. Check mle_retvals\n",
      "  warnings.warn(\"Maximum Likelihood optimization failed to \"\n"
     ]
    },
    {
     "name": "stdout",
     "output_type": "stream",
     "text": [
      "                               SARIMAX Results                                \n",
      "==============================================================================\n",
      "Dep. Variable:                  value   No. Observations:                 8012\n",
      "Model:                 ARIMA(6, 1, 6)   Log Likelihood               11790.136\n",
      "Date:                Thu, 21 Dec 2023   AIC                         -23554.271\n",
      "Time:                        09:58:01   BIC                         -23463.420\n",
      "Sample:                             0   HQIC                        -23523.176\n",
      "                               - 8012                                         \n",
      "Covariance Type:                  opg                                         \n",
      "==============================================================================\n",
      "                 coef    std err          z      P>|z|      [0.025      0.975]\n",
      "------------------------------------------------------------------------------\n",
      "ar.L1         -0.1672      1.060     -0.158      0.875      -2.245       1.911\n",
      "ar.L2          0.0492      0.996      0.049      0.961      -1.904       2.002\n",
      "ar.L3          0.1880      0.844      0.223      0.824      -1.466       1.842\n",
      "ar.L4          0.1573      0.552      0.285      0.776      -0.925       1.240\n",
      "ar.L5         -0.0182      0.515     -0.035      0.972      -1.027       0.991\n",
      "ar.L6          0.2814      0.384      0.733      0.464      -0.471       1.034\n",
      "ma.L1          0.0604      1.060      0.057      0.955      -2.017       2.138\n",
      "ma.L2         -0.0733      1.017     -0.072      0.943      -2.067       1.921\n",
      "ma.L3         -0.2210      0.910     -0.243      0.808      -2.005       1.563\n",
      "ma.L4         -0.2081      0.546     -0.381      0.703      -1.278       0.861\n",
      "ma.L5         -0.0569      0.564     -0.101      0.920      -1.163       1.050\n",
      "ma.L6         -0.3390      0.486     -0.698      0.485      -1.291       0.613\n",
      "sigma2         0.0031   2.71e-05    114.610      0.000       0.003       0.003\n",
      "===================================================================================\n",
      "Ljung-Box (L1) (Q):                   1.48   Jarque-Bera (JB):             10220.80\n",
      "Prob(Q):                              0.22   Prob(JB):                         0.00\n",
      "Heteroskedasticity (H):               0.57   Skew:                             0.22\n",
      "Prob(H) (two-sided):                  0.00   Kurtosis:                         8.52\n",
      "===================================================================================\n",
      "\n",
      "Warnings:\n",
      "[1] Covariance matrix calculated using the outer product of gradients (complex-step).\n"
     ]
    }
   ],
   "source": [
    "#model = ARIMA(train_data['value'], train_exog, order=(6, 0, 6))\n",
    "model = ARIMA(train_data['value'], order=(6, 1, 6))\n",
    "res = model.fit()\n",
    "print(res.summary())\n",
    "\n",
    "last_index = train_data.index[-1]"
   ]
  },
  {
   "cell_type": "code",
   "execution_count": 13,
   "id": "af53133e",
   "metadata": {},
   "outputs": [],
   "source": [
    "all_data = pd.concat([train_data, test_data]).reset_index(drop=True)"
   ]
  },
  {
   "cell_type": "code",
   "execution_count": 14,
   "id": "89f01338",
   "metadata": {},
   "outputs": [
    {
     "name": "stdout",
     "output_type": "stream",
     "text": [
      "0\n",
      "100\n",
      "200\n",
      "300\n",
      "400\n",
      "500\n",
      "600\n",
      "700\n",
      "800\n",
      "900\n",
      "1000\n",
      "1100\n",
      "1200\n",
      "1300\n",
      "1400\n",
      "1500\n",
      "1600\n",
      "1700\n",
      "1800\n",
      "1900\n",
      "2000\n",
      "2100\n",
      "2200\n",
      "2300\n",
      "2400\n",
      "2500\n",
      "2600\n",
      "2700\n",
      "2800\n"
     ]
    }
   ],
   "source": [
    "## make forecast into future 24 samples\n",
    "all_results = []\n",
    "\n",
    "for i in range(test_data.shape[0]):\n",
    "    if i%100 == 0:\n",
    "        print(i)\n",
    "    aaa = res.forecast(24)\n",
    "    #aaa = res.forecast(24)\n",
    "    all_results.append(aaa)\n",
    "    \n",
    "    new_observations = all_data['value'][(last_index+1+i): (last_index+i+2)]\n",
    "    res = res.extend(new_observations)"
   ]
  },
  {
   "cell_type": "code",
   "execution_count": 15,
   "id": "1b87cb02",
   "metadata": {},
   "outputs": [],
   "source": [
    "all_results = np.array(all_results)"
   ]
  },
  {
   "cell_type": "code",
   "execution_count": 16,
   "id": "9c4a3542",
   "metadata": {},
   "outputs": [
    {
     "data": {
      "text/plain": [
       "(2900, 24)"
      ]
     },
     "execution_count": 16,
     "metadata": {},
     "output_type": "execute_result"
    }
   ],
   "source": [
    "## n_baches, n_step\n",
    "all_results.shape"
   ]
  },
  {
   "cell_type": "code",
   "execution_count": 17,
   "id": "017ea576",
   "metadata": {},
   "outputs": [
    {
     "data": {
      "text/plain": [
       "torch.Size([2900, 24, 11])"
      ]
     },
     "execution_count": 17,
     "metadata": {},
     "output_type": "execute_result"
    }
   ],
   "source": [
    "## prepare prediction data for transverse scale\n",
    "output = copy.deepcopy(test_data_Y)\n",
    "output[:, :, -1] = torch.from_numpy(all_results)\n",
    "output.shape"
   ]
  },
  {
   "cell_type": "code",
   "execution_count": null,
   "id": "9d35a538",
   "metadata": {},
   "outputs": [],
   "source": []
  },
  {
   "cell_type": "code",
   "execution_count": 18,
   "id": "3a688a47",
   "metadata": {},
   "outputs": [
    {
     "name": "stdout",
     "output_type": "stream",
     "text": [
      "1 th future hour prediction\n",
      "2 th future hour prediction\n",
      "3 th future hour prediction\n",
      "4 th future hour prediction\n",
      "5 th future hour prediction\n",
      "6 th future hour prediction\n",
      "7 th future hour prediction\n",
      "8 th future hour prediction\n",
      "9 th future hour prediction\n",
      "10 th future hour prediction\n",
      "11 th future hour prediction\n",
      "12 th future hour prediction\n",
      "13 th future hour prediction\n",
      "14 th future hour prediction\n",
      "15 th future hour prediction\n",
      "16 th future hour prediction\n",
      "17 th future hour prediction\n",
      "18 th future hour prediction\n",
      "19 th future hour prediction\n",
      "20 th future hour prediction\n",
      "21 th future hour prediction\n",
      "22 th future hour prediction\n",
      "23 th future hour prediction\n",
      "24 th future hour prediction\n"
     ]
    }
   ],
   "source": [
    "## transverse scale\n",
    "all_cooling = []\n",
    "for i in range(output.shape[1]):\n",
    "    print('%d th future hour prediction'%(i+1))\n",
    "    predict_data = scaler.inverse_transform(output[:, i, :])\n",
    "    actual_data = scaler.inverse_transform(test_data_X[:, i, :])\n",
    "    \n",
    "    all_cooling.append([actual_data[:, -1], predict_data[:, -1]])"
   ]
  },
  {
   "cell_type": "code",
   "execution_count": 19,
   "id": "f3aeff5e",
   "metadata": {},
   "outputs": [],
   "source": [
    "all_cooling = np.array(all_cooling)"
   ]
  },
  {
   "cell_type": "code",
   "execution_count": 20,
   "id": "0b4f1d90",
   "metadata": {},
   "outputs": [
    {
     "data": {
      "text/plain": [
       "(24, 2, 2900)"
      ]
     },
     "execution_count": 20,
     "metadata": {},
     "output_type": "execute_result"
    }
   ],
   "source": [
    "## n_step, (true, actual), n_batches\n",
    "all_cooling.shape"
   ]
  },
  {
   "cell_type": "code",
   "execution_count": 21,
   "id": "f8bebbd1",
   "metadata": {},
   "outputs": [],
   "source": [
    "all_cooling_1 = all_cooling[0, :, :]\n",
    "all_cooling_1 = pd.DataFrame(all_cooling_1.T, columns=['Actual', 'predict'])"
   ]
  },
  {
   "cell_type": "code",
   "execution_count": 22,
   "id": "8072c041",
   "metadata": {},
   "outputs": [
    {
     "data": {
      "text/html": [
       "<div>\n",
       "<style scoped>\n",
       "    .dataframe tbody tr th:only-of-type {\n",
       "        vertical-align: middle;\n",
       "    }\n",
       "\n",
       "    .dataframe tbody tr th {\n",
       "        vertical-align: top;\n",
       "    }\n",
       "\n",
       "    .dataframe thead th {\n",
       "        text-align: right;\n",
       "    }\n",
       "</style>\n",
       "<table border=\"1\" class=\"dataframe\">\n",
       "  <thead>\n",
       "    <tr style=\"text-align: right;\">\n",
       "      <th></th>\n",
       "      <th>Actual</th>\n",
       "      <th>predict</th>\n",
       "    </tr>\n",
       "  </thead>\n",
       "  <tbody>\n",
       "    <tr>\n",
       "      <th>0</th>\n",
       "      <td>35.271825</td>\n",
       "      <td>34.429843</td>\n",
       "    </tr>\n",
       "    <tr>\n",
       "      <th>1</th>\n",
       "      <td>34.609477</td>\n",
       "      <td>34.848871</td>\n",
       "    </tr>\n",
       "    <tr>\n",
       "      <th>2</th>\n",
       "      <td>20.832663</td>\n",
       "      <td>34.325055</td>\n",
       "    </tr>\n",
       "    <tr>\n",
       "      <th>3</th>\n",
       "      <td>25.374125</td>\n",
       "      <td>21.914373</td>\n",
       "    </tr>\n",
       "    <tr>\n",
       "      <th>4</th>\n",
       "      <td>22.541295</td>\n",
       "      <td>24.704931</td>\n",
       "    </tr>\n",
       "    <tr>\n",
       "      <th>...</th>\n",
       "      <td>...</td>\n",
       "      <td>...</td>\n",
       "    </tr>\n",
       "    <tr>\n",
       "      <th>2895</th>\n",
       "      <td>1.620455</td>\n",
       "      <td>1.214823</td>\n",
       "    </tr>\n",
       "    <tr>\n",
       "      <th>2896</th>\n",
       "      <td>0.432812</td>\n",
       "      <td>2.111070</td>\n",
       "    </tr>\n",
       "    <tr>\n",
       "      <th>2897</th>\n",
       "      <td>3.438550</td>\n",
       "      <td>1.129660</td>\n",
       "    </tr>\n",
       "    <tr>\n",
       "      <th>2898</th>\n",
       "      <td>4.491748</td>\n",
       "      <td>3.669045</td>\n",
       "    </tr>\n",
       "    <tr>\n",
       "      <th>2899</th>\n",
       "      <td>41.473564</td>\n",
       "      <td>4.889489</td>\n",
       "    </tr>\n",
       "  </tbody>\n",
       "</table>\n",
       "<p>2900 rows × 2 columns</p>\n",
       "</div>"
      ],
      "text/plain": [
       "         Actual    predict\n",
       "0     35.271825  34.429843\n",
       "1     34.609477  34.848871\n",
       "2     20.832663  34.325055\n",
       "3     25.374125  21.914373\n",
       "4     22.541295  24.704931\n",
       "...         ...        ...\n",
       "2895   1.620455   1.214823\n",
       "2896   0.432812   2.111070\n",
       "2897   3.438550   1.129660\n",
       "2898   4.491748   3.669045\n",
       "2899  41.473564   4.889489\n",
       "\n",
       "[2900 rows x 2 columns]"
      ]
     },
     "execution_count": 22,
     "metadata": {},
     "output_type": "execute_result"
    }
   ],
   "source": [
    "all_cooling_1"
   ]
  },
  {
   "cell_type": "code",
   "execution_count": 23,
   "id": "82046c84",
   "metadata": {},
   "outputs": [
    {
     "data": {
      "text/plain": [
       "Text(0.5, 1.0, 'The prediction in the first 28 days')"
      ]
     },
     "execution_count": 23,
     "metadata": {},
     "output_type": "execute_result"
    },
    {
     "data": {
      "image/png": "[encoded data removed]",
      "text/plain": [
       "<Figure size 864x288 with 1 Axes>"
      ]
     },
     "metadata": {
      "needs_background": "light"
     },
     "output_type": "display_data"
    }
   ],
   "source": [
    "fig = plt.figure(figsize=(12, 4))\n",
    "ax = fig.add_subplot(111)\n",
    "all_cooling_1.plot(ax=ax)\n",
    "ax.set(xlim=[0, 24*28], ylim=[0, 80], xlabel='Data number', ylabel='Cooling load (MW)')\n",
    "ax.set_title('The prediction in the first 28 days')"
   ]
  },
  {
   "cell_type": "code",
   "execution_count": 24,
   "id": "48060b5a",
   "metadata": {},
   "outputs": [
    {
     "name": "stdout",
     "output_type": "stream",
     "text": [
      "1-hour-ahead prediction - RMSE = 6.750689\n",
      "1-hour-ahead prediction - MAE = 4.165590\n"
     ]
    }
   ],
   "source": [
    "print('%d-hour-ahead prediction - RMSE = %f'%(1, np.sqrt(mean_squared_error(all_cooling_1['Actual'], all_cooling_1['predict']))))\n",
    "print('%d-hour-ahead prediction - MAE = %f'%(1, mean_absolute_error(all_cooling_1['Actual'], all_cooling_1['predict'])))"
   ]
  },
  {
   "cell_type": "code",
   "execution_count": 25,
   "id": "8df1a4f9",
   "metadata": {},
   "outputs": [],
   "source": [
    "mean_rmse = []\n",
    "mean_mae = []\n",
    "mean_mape = []\n",
    "for i in range(all_cooling.shape[2]):\n",
    "    mean_rmse.append(np.sqrt(mean_squared_error(all_cooling[:, 0, i], all_cooling[:, 1, i])))\n",
    "    mean_mae.append(mean_absolute_error(all_cooling[:, 0, i], all_cooling[:, 1, i]))"
   ]
  },
  {
   "cell_type": "code",
   "execution_count": 26,
   "id": "37f93684",
   "metadata": {},
   "outputs": [
    {
     "name": "stdout",
     "output_type": "stream",
     "text": [
      "24-hour-ahead prediction - RMSE = 15.927132\n",
      "24-hour-ahead prediction - MAE = 13.331157\n"
     ]
    }
   ],
   "source": [
    "print('%d-hour-ahead prediction - RMSE = %f'%(24, np.mean(mean_rmse)))\n",
    "print('%d-hour-ahead prediction - MAE = %f'%(24, np.mean(mean_mae)))"
   ]
  },
  {
   "cell_type": "code",
   "execution_count": null,
   "id": "a84a3ac4",
   "metadata": {},
   "outputs": [],
   "source": []
  },
  {
   "cell_type": "code",
   "execution_count": null,
   "id": "a049dccb",
   "metadata": {},
   "outputs": [],
   "source": []
  }
 ],
 "metadata": {
  "kernelspec": {
   "display_name": "Python 3",
   "language": "python",
   "name": "python3"
  },
  "language_info": {
   "codemirror_mode": {
    "name": "ipython",
    "version": 3
   },
   "file_extension": ".py",
   "mimetype": "text/x-python",
   "name": "python",
   "nbconvert_exporter": "python",
   "pygments_lexer": "ipython3",
   "version": "3.8.8"
  }
 },
 "nbformat": 4,
 "nbformat_minor": 5
}
