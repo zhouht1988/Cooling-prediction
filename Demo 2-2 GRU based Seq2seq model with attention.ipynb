{
 "cells": [
  {
   "cell_type": "code",
   "execution_count": 1,
   "id": "2af68c85",
   "metadata": {},
   "outputs": [],
   "source": [
    "import pickle\n",
    "import time\n",
    "import pandas as pd\n",
    "import numpy as np\n",
    "import matplotlib.pyplot as plt\n",
    "\n",
    "from sklearn.metrics import mean_squared_error\n",
    "from sklearn.metrics import mean_absolute_error\n",
    "from sklearn.metrics import mean_absolute_percentage_error\n",
    "\n",
    "import torch\n",
    "import torch.nn as nn\n",
    "from torch.utils.data import Dataset\n",
    "from torch.utils.data import DataLoader\n",
    "from torch.utils.data.dataset import random_split\n",
    "import torch.optim as optim\n",
    "\n",
    "from enc_dec_with_atten import cooling_model"
   ]
  },
  {
   "cell_type": "code",
   "execution_count": 2,
   "id": "59b238e2",
   "metadata": {},
   "outputs": [],
   "source": [
    "def train(model, iterator, optimizer, criterion, clip):\n",
    "    \n",
    "    model.train()\n",
    "    \n",
    "    epoch_loss = 0\n",
    "    \n",
    "    for i, (src, trg) in enumerate(iterator):\n",
    "        \n",
    "        # src = batch.src\n",
    "        # trg = batch.trg\n",
    "        \n",
    "        optimizer.zero_grad()\n",
    "        \n",
    "        output = model(src, trg)\n",
    "        \n",
    "        #trg = [trg len, batch size]\n",
    "        #output = [trg len, batch size, output dim]\n",
    "        \n",
    "        output_dim = output.shape[-1]\n",
    "        \n",
    "        # output = output[1:].view(-1, output_dim)\n",
    "        # trg = trg[1:].view(-1)\n",
    "        \n",
    "        #trg = [(trg len - 1) * batch size]\n",
    "        #output = [(trg len - 1) * batch size, output dim]\n",
    "        \n",
    "        loss = criterion(output, trg)\n",
    "        \n",
    "        loss.backward()\n",
    "        \n",
    "        torch.nn.utils.clip_grad_norm_(model.parameters(), clip)\n",
    "        \n",
    "        optimizer.step()\n",
    "        \n",
    "        epoch_loss += loss.item()\n",
    "        \n",
    "    return epoch_loss / len(iterator)\n",
    "\n",
    "def evaluate(model, iterator, criterion):\n",
    "    \n",
    "    model.eval()\n",
    "    \n",
    "    epoch_loss = 0\n",
    "    \n",
    "    with torch.no_grad():\n",
    "    \n",
    "        for i, (src, trg) in enumerate(iterator):\n",
    "\n",
    "            output = model(src, trg, 0) #turn off teacher forcing\n",
    "\n",
    "            #trg = [trg len, batch size]\n",
    "            #output = [trg len, batch size, output dim]\n",
    "\n",
    "            output_dim = output.shape[-1]\n",
    "            \n",
    "            # output = output[1:].view(-1, output_dim)\n",
    "            # trg = trg[1:].view(-1)\n",
    "\n",
    "            #trg = [(trg len - 1) * batch size]\n",
    "            #output = [(trg len - 1) * batch size, output dim]\n",
    "\n",
    "            loss = criterion(output, trg)\n",
    "\n",
    "            epoch_loss += loss.item()\n",
    "        \n",
    "    return epoch_loss / len(iterator), output"
   ]
  },
  {
   "cell_type": "code",
   "execution_count": 3,
   "id": "1a5e0014",
   "metadata": {},
   "outputs": [],
   "source": [
    "class CustomDataset(Dataset):\n",
    "    def __init__(self, data_input, data_output):\n",
    "\n",
    "        super(CustomDataset, self).__init__()\n",
    "        self.output_seq = data_output\n",
    "        self.input_seq = data_input\n",
    "        # self.transform = transform\n",
    "        #self.target_transform = target_transform\n",
    "        \n",
    "    def __len__(self):\n",
    "        return len(self.input_seq)\n",
    "    \n",
    "    \n",
    "    def __getitem__(self, idx):\n",
    "#        img_path = os.path.join(self.img_dir, self.img_labels.iloc[idx, 0])\n",
    "        input_seq = self.input_seq[idx, :, :]\n",
    "        output_seq = self.output_seq[idx, :, :]\n",
    "        # if self.transform:\n",
    "        #     image = self.transform(image)\n",
    "        # if self.target_transform:\n",
    "        #     label = self.target_transform(label)\n",
    "        return input_seq, output_seq"
   ]
  },
  {
   "cell_type": "code",
   "execution_count": 4,
   "id": "79bc7d92",
   "metadata": {},
   "outputs": [],
   "source": [
    "model_config = torch.load(r'.\\temp_data\\GRU_based_atten_seq2seq.pt')"
   ]
  },
  {
   "cell_type": "code",
   "execution_count": 5,
   "id": "b2b731a7",
   "metadata": {},
   "outputs": [
    {
     "data": {
      "text/plain": [
       "dict_keys(['epoch', 'model_state', 'enc_hid_dim', 'dec_hid_dim', 'dropout'])"
      ]
     },
     "execution_count": 5,
     "metadata": {},
     "output_type": "execute_result"
    }
   ],
   "source": [
    "model_config.keys()"
   ]
  },
  {
   "cell_type": "code",
   "execution_count": 6,
   "id": "22237b7e",
   "metadata": {},
   "outputs": [],
   "source": [
    "config = {\n",
    "    \"enc_hid_dim\": model_config['enc_hid_dim'],\n",
    "    \"dec_hid_dim\": model_config['dec_hid_dim'],\n",
    "    \"dropout\": model_config['dropout'],\n",
    "    \"data_dir\":r'.\\temp_data\\public_data.pt',\n",
    "    \"model_type\": 'GRU',\n",
    "    \"batch_size\": 128,\n",
    "    \"n_epochs\": 30,\n",
    "    \"device\": torch.device('cuda' if torch.cuda.is_available() else 'cpu'),\n",
    "    \"train_ratio\": 0.9,\n",
    "    'criterion': nn.MSELoss()\n",
    "}"
   ]
  },
  {
   "cell_type": "code",
   "execution_count": 7,
   "id": "f67cee6d",
   "metadata": {},
   "outputs": [],
   "source": [
    "scaler = torch.load(config['data_dir'])['scaler']\n",
    "train_data_X, train_data_Y, test_data_X, test_data_Y = torch.load(config['data_dir'])['data']"
   ]
  },
  {
   "cell_type": "code",
   "execution_count": 8,
   "id": "d5346e38",
   "metadata": {},
   "outputs": [],
   "source": [
    "## configuration of training data\n",
    "INPUT_DIM = train_data_X.shape[2]\n",
    "OUTPUT_DIM = train_data_Y.shape[2]\n",
    "BATCH_SIZE = 128\n",
    "src_len = train_data_X.shape[1]\n",
    "trg_len = train_data_Y.shape[1]\n",
    "\n",
    "test_data = CustomDataset(test_data_X, test_data_Y)\n",
    "\n",
    "test_dataloader = DataLoader(test_data, batch_size=len(test_data), shuffle=False)\n"
   ]
  },
  {
   "cell_type": "code",
   "execution_count": 9,
   "id": "351365d4",
   "metadata": {},
   "outputs": [
    {
     "name": "stdout",
     "output_type": "stream",
     "text": [
      "Error for testing data : 0.015803\n"
     ]
    }
   ],
   "source": [
    "### Step 4: Predict on testing data\n",
    "model_new = cooling_model(INPUT_DIM, OUTPUT_DIM, config['device'], enc_hid_dim=config['enc_hid_dim'], dec_hid_dim=config['dec_hid_dim'],\n",
    "                  dropout=config['dropout'], model_type=config['model_type'])\n",
    "model_new.load_state_dict(model_config['model_state'])\n",
    "\n",
    "test_loss, output = evaluate(model_new, test_dataloader, config['criterion'])\n",
    "\n",
    "print('Error for testing data : %f'%test_loss)"
   ]
  },
  {
   "cell_type": "code",
   "execution_count": 10,
   "id": "bc0daf58",
   "metadata": {},
   "outputs": [
    {
     "data": {
      "text/plain": [
       "torch.Size([2900, 24, 11])"
      ]
     },
     "execution_count": 10,
     "metadata": {},
     "output_type": "execute_result"
    }
   ],
   "source": [
    "output.shape"
   ]
  },
  {
   "cell_type": "code",
   "execution_count": 11,
   "id": "ca8dddaa",
   "metadata": {},
   "outputs": [
    {
     "name": "stdout",
     "output_type": "stream",
     "text": [
      "1 th future hour prediction\n",
      "2 th future hour prediction\n",
      "3 th future hour prediction\n",
      "4 th future hour prediction\n",
      "5 th future hour prediction\n",
      "6 th future hour prediction\n",
      "7 th future hour prediction\n",
      "8 th future hour prediction\n",
      "9 th future hour prediction\n",
      "10 th future hour prediction\n",
      "11 th future hour prediction\n",
      "12 th future hour prediction\n",
      "13 th future hour prediction\n",
      "14 th future hour prediction\n",
      "15 th future hour prediction\n",
      "16 th future hour prediction\n",
      "17 th future hour prediction\n",
      "18 th future hour prediction\n",
      "19 th future hour prediction\n",
      "20 th future hour prediction\n",
      "21 th future hour prediction\n",
      "22 th future hour prediction\n",
      "23 th future hour prediction\n",
      "24 th future hour prediction\n"
     ]
    }
   ],
   "source": [
    "## transverse scale\n",
    "all_cooling = []\n",
    "for i in range(output.shape[1]):\n",
    "    print('%d th future hour prediction'%(i+1))\n",
    "    predict_data = scaler.inverse_transform(output[:, i, :])\n",
    "    actual_data = scaler.inverse_transform(test_data_Y[:, i, :])\n",
    "    \n",
    "    all_cooling.append([actual_data[:, -1], predict_data[:, -1]]) ### the position of the energy consumption is "
   ]
  },
  {
   "cell_type": "code",
   "execution_count": 12,
   "id": "c5dfaa67",
   "metadata": {},
   "outputs": [
    {
     "data": {
      "text/plain": [
       "[[array([35.66030525, 37.4380756 , 28.50788027, ...,  5.19259719,\n",
       "          2.1294871 ,  2.728889  ]),\n",
       "  array([38.26379136, 32.43310238, 33.02120355, ..., 10.44805647,\n",
       "         11.27814713,  8.26017482])],\n",
       " [array([37.4380756 , 28.50788027, 29.20938182, ...,  2.1294871 ,\n",
       "          2.728889  ,  0.        ]),\n",
       "  array([36.82816694, 31.49865744, 32.12710777, ..., 12.56758838,\n",
       "         13.03753266,  6.60935059])],\n",
       " [array([28.50788027, 29.20938182, 33.43543564, ...,  2.728889  ,\n",
       "          0.        ,  0.        ]),\n",
       "  array([35.84332958, 31.02629041, 31.65291336, ..., 14.25354384,\n",
       "         12.10755618,  4.59585357])],\n",
       " [array([29.20938182, 33.43543564, 29.38196293, ...,  0.        ,\n",
       "          0.        ,  0.43214285]),\n",
       "  array([34.93581466, 30.64162117, 31.3451354 , ..., 13.53417946,\n",
       "         10.23803699,  3.83615425])],\n",
       " [array([33.43543564, 29.38196293, 24.64746598, ...,  0.        ,\n",
       "          0.43214285,  0.        ]),\n",
       "  array([34.1411974 , 30.40666325, 31.33145206, ..., 11.94518437,\n",
       "          9.65632707,  4.1499666 ])],\n",
       " [array([29.38196293, 24.64746598, 34.13997915, ...,  0.43214285,\n",
       "          0.        ,  0.        ]),\n",
       "  array([33.59959538, 30.43397673, 31.67193207, ..., 11.64848262,\n",
       "          9.93121767,  4.67838387])],\n",
       " [array([24.64746598, 34.13997915, 34.1921329 , ...,  0.        ,\n",
       "          0.        ,  0.        ]),\n",
       "  array([33.36977835, 30.78508344, 32.38617758, ..., 11.97551505,\n",
       "         10.30804257,  5.28869662])],\n",
       " [array([34.13997915, 34.1921329 , 24.27409494, ...,  0.        ,\n",
       "          0.        ,  0.70441176]),\n",
       "  array([33.47907629, 31.48084965, 33.46420038, ..., 12.35635523,\n",
       "         10.69812698,  5.95005999])],\n",
       " [array([34.1921329 , 24.27409494, 35.89263952, ...,  0.        ,\n",
       "          0.70441176,  0.        ]),\n",
       "  array([33.94604557, 32.52022223, 34.86730254, ..., 12.74418202,\n",
       "         11.10790529,  6.59046673])],\n",
       " [array([24.27409494, 35.89263952, 26.60083555, ...,  0.70441176,\n",
       "          0.        ,  0.        ]),\n",
       "  array([34.78175689, 33.88268902, 36.53831053, ..., 13.14421154,\n",
       "         11.49839426,  7.13185226])],\n",
       " [array([35.89263952, 26.60083555, 35.10364751, ...,  0.        ,\n",
       "          0.        ,  0.        ]),\n",
       "  array([35.98194268, 35.53810188, 38.50651748, ..., 13.52305922,\n",
       "         11.81723283,  7.51778929])],\n",
       " [array([26.60083555, 35.10364751, 28.0631423 , ...,  0.        ,\n",
       "          0.        ,  0.        ]),\n",
       "  array([37.53917234, 37.55185759, 41.02338646, ..., 13.83927689,\n",
       "         12.02489929,  7.71940118])],\n",
       " [array([35.10364751, 28.0631423 , 30.63117244, ...,  0.        ,\n",
       "          0.        ,  0.        ]),\n",
       "  array([39.54152343, 40.18030691, 44.16405292, ..., 14.06279625,\n",
       "         12.10061727,  7.73342211])],\n",
       " [array([28.0631423 , 30.63117244, 30.54761745, ...,  0.        ,\n",
       "          0.        ,  3.85846811]),\n",
       "  array([42.24318174, 43.45106602, 47.43138845, ..., 14.17847076,\n",
       "         12.03868813,  7.57438169])],\n",
       " [array([30.63117244, 30.54761745, 48.6476097 , ...,  0.        ,\n",
       "          3.85846811,  5.01401471]),\n",
       "  array([45.63907244, 46.82924433, 50.31408593, ..., 14.18086232,\n",
       "         11.83815506,  7.26320721])],\n",
       " [array([30.54761745, 48.6476097 , 46.72867966, ...,  3.85846811,\n",
       "          5.01401471,  4.9842262 ]),\n",
       "  array([49.15499419, 49.79148793, 52.67450832, ..., 14.06242655,\n",
       "         11.48873263,  6.82385046])],\n",
       " [array([48.6476097 , 46.72867966, 43.77702973, ...,  5.01401471,\n",
       "          4.9842262 ,  2.31503968]),\n",
       "  array([52.2372028 , 52.19875073, 54.85155779, ..., 13.79807091,\n",
       "         10.96458705,  6.33720152])],\n",
       " [array([46.72867966, 43.77702973, 40.38837884, ...,  4.9842262 ,\n",
       "          2.31503968,  7.51869519]),\n",
       "  array([54.72097342, 54.37058593, 56.93312842, ..., 13.33681679,\n",
       "         10.28027591,  6.14581224])],\n",
       " [array([43.77702973, 40.38837884, 15.24953905, ...,  2.31503968,\n",
       "          7.51869519,  6.13146839]),\n",
       "  array([56.85860943, 56.50740732, 58.21815901, ..., 12.65201211,\n",
       "          9.72366588,  6.91426455])],\n",
       " [array([40.38837884, 15.24953905, 39.88614624, ...,  7.51869519,\n",
       "          6.13146839,  6.01063144]),\n",
       "  array([59.06248618, 57.7448783 , 55.09946149, ..., 11.96247386,\n",
       "          9.94974742,  8.93436931])],\n",
       " [array([15.24953905, 39.88614624, 41.70140359, ...,  6.13146839,\n",
       "          6.01063144,  5.36137722]),\n",
       "  array([59.82758279, 54.61017101, 51.4553185 , ..., 11.85286401,\n",
       "         11.26431884, 11.75254152])],\n",
       " [array([39.88614624, 41.70140359, 39.2807033 , ...,  6.01063144,\n",
       "          5.36137722, 23.89388407]),\n",
       "  array([56.27515011, 50.95247677, 47.19240882, ..., 12.62987621,\n",
       "         13.27630313, 14.7306105 ])],\n",
       " [array([41.70140359, 39.2807033 , 38.2215928 , ...,  5.36137722,\n",
       "         23.89388407, 40.47686005]),\n",
       "  array([52.14926466, 46.63271279, 43.80880708, ..., 13.99275214,\n",
       "         15.45558637, 17.4553872 ])],\n",
       " [array([39.2807033 , 38.2215928 , 33.51808611, ..., 23.89388407,\n",
       "         40.47686005, 46.85069221]),\n",
       "  array([47.42072872, 43.17450032, 41.60087561, ..., 15.52893664,\n",
       "         17.45789526, 19.92795136])]]"
      ]
     },
     "execution_count": 12,
     "metadata": {},
     "output_type": "execute_result"
    }
   ],
   "source": [
    "all_cooling"
   ]
  },
  {
   "cell_type": "code",
   "execution_count": 13,
   "id": "d4c93cf2",
   "metadata": {},
   "outputs": [],
   "source": [
    "all_cooling = np.array(all_cooling)"
   ]
  },
  {
   "cell_type": "code",
   "execution_count": 14,
   "id": "7311bd2b",
   "metadata": {},
   "outputs": [
    {
     "data": {
      "text/plain": [
       "(24, 2, 2900)"
      ]
     },
     "execution_count": 14,
     "metadata": {},
     "output_type": "execute_result"
    }
   ],
   "source": [
    "all_cooling.shape"
   ]
  },
  {
   "cell_type": "code",
   "execution_count": 15,
   "id": "4b05080e",
   "metadata": {},
   "outputs": [],
   "source": [
    "## 1-hour-ahead prediction error\n",
    "all_cooling_1 = all_cooling[0, :, :]\n",
    "all_cooling_1 = pd.DataFrame(all_cooling_1.T, columns=['actual', 'predict'])"
   ]
  },
  {
   "cell_type": "code",
   "execution_count": 16,
   "id": "5531920f",
   "metadata": {},
   "outputs": [
    {
     "data": {
      "text/html": [
       "<div>\n",
       "<style scoped>\n",
       "    .dataframe tbody tr th:only-of-type {\n",
       "        vertical-align: middle;\n",
       "    }\n",
       "\n",
       "    .dataframe tbody tr th {\n",
       "        vertical-align: top;\n",
       "    }\n",
       "\n",
       "    .dataframe thead th {\n",
       "        text-align: right;\n",
       "    }\n",
       "</style>\n",
       "<table border=\"1\" class=\"dataframe\">\n",
       "  <thead>\n",
       "    <tr style=\"text-align: right;\">\n",
       "      <th></th>\n",
       "      <th>actual</th>\n",
       "      <th>predict</th>\n",
       "    </tr>\n",
       "  </thead>\n",
       "  <tbody>\n",
       "    <tr>\n",
       "      <th>0</th>\n",
       "      <td>35.660305</td>\n",
       "      <td>38.263791</td>\n",
       "    </tr>\n",
       "    <tr>\n",
       "      <th>1</th>\n",
       "      <td>37.438076</td>\n",
       "      <td>32.433102</td>\n",
       "    </tr>\n",
       "    <tr>\n",
       "      <th>2</th>\n",
       "      <td>28.507880</td>\n",
       "      <td>33.021204</td>\n",
       "    </tr>\n",
       "    <tr>\n",
       "      <th>3</th>\n",
       "      <td>29.209382</td>\n",
       "      <td>27.719257</td>\n",
       "    </tr>\n",
       "    <tr>\n",
       "      <th>4</th>\n",
       "      <td>33.435436</td>\n",
       "      <td>28.265444</td>\n",
       "    </tr>\n",
       "    <tr>\n",
       "      <th>...</th>\n",
       "      <td>...</td>\n",
       "      <td>...</td>\n",
       "    </tr>\n",
       "    <tr>\n",
       "      <th>2895</th>\n",
       "      <td>3.325012</td>\n",
       "      <td>7.229697</td>\n",
       "    </tr>\n",
       "    <tr>\n",
       "      <th>2896</th>\n",
       "      <td>3.458767</td>\n",
       "      <td>9.732126</td>\n",
       "    </tr>\n",
       "    <tr>\n",
       "      <th>2897</th>\n",
       "      <td>5.192597</td>\n",
       "      <td>10.448056</td>\n",
       "    </tr>\n",
       "    <tr>\n",
       "      <th>2898</th>\n",
       "      <td>2.129487</td>\n",
       "      <td>11.278147</td>\n",
       "    </tr>\n",
       "    <tr>\n",
       "      <th>2899</th>\n",
       "      <td>2.728889</td>\n",
       "      <td>8.260175</td>\n",
       "    </tr>\n",
       "  </tbody>\n",
       "</table>\n",
       "<p>2900 rows × 2 columns</p>\n",
       "</div>"
      ],
      "text/plain": [
       "         actual    predict\n",
       "0     35.660305  38.263791\n",
       "1     37.438076  32.433102\n",
       "2     28.507880  33.021204\n",
       "3     29.209382  27.719257\n",
       "4     33.435436  28.265444\n",
       "...         ...        ...\n",
       "2895   3.325012   7.229697\n",
       "2896   3.458767   9.732126\n",
       "2897   5.192597  10.448056\n",
       "2898   2.129487  11.278147\n",
       "2899   2.728889   8.260175\n",
       "\n",
       "[2900 rows x 2 columns]"
      ]
     },
     "execution_count": 16,
     "metadata": {},
     "output_type": "execute_result"
    }
   ],
   "source": [
    "all_cooling_1"
   ]
  },
  {
   "cell_type": "code",
   "execution_count": 17,
   "id": "c50588d4",
   "metadata": {},
   "outputs": [
    {
     "data": {
      "text/plain": [
       "Text(0.5, 1.0, 'The prediction in the first 28 days')"
      ]
     },
     "execution_count": 17,
     "metadata": {},
     "output_type": "execute_result"
    },
    {
     "data": {
      "image/png": "[encoded data removed]",
      "text/plain": [
       "<Figure size 864x288 with 1 Axes>"
      ]
     },
     "metadata": {
      "needs_background": "light"
     },
     "output_type": "display_data"
    }
   ],
   "source": [
    "fig = plt.figure(figsize=(12, 4))\n",
    "ax = fig.add_subplot(111)\n",
    "all_cooling_1.plot(ax=ax)\n",
    "ax.set(xlim=[0, 24*28], ylim=[0, 80], xlabel='Data number', ylabel='Cooling load')\n",
    "ax.set_title('The prediction in the first 28 days')"
   ]
  },
  {
   "cell_type": "code",
   "execution_count": 18,
   "id": "7a6486a8",
   "metadata": {},
   "outputs": [
    {
     "name": "stdout",
     "output_type": "stream",
     "text": [
      "1-hour-ahead prediction - RMSE = 6.653092\n",
      "1-hour-ahead prediction - MAE = 4.561021\n"
     ]
    }
   ],
   "source": [
    "print('%d-hour-ahead prediction - RMSE = %f'%(1, np.sqrt(mean_squared_error(all_cooling_1['actual'], all_cooling_1['predict']))))\n",
    "print('%d-hour-ahead prediction - MAE = %f'%(1, mean_absolute_error(all_cooling_1['actual'], all_cooling_1['predict'])))"
   ]
  },
  {
   "cell_type": "code",
   "execution_count": 19,
   "id": "aeb384c7",
   "metadata": {},
   "outputs": [],
   "source": [
    "## 24-hour-ahead preidction\n",
    "mean_rmse = []\n",
    "mean_mae = []\n",
    "mean_mape = []\n",
    "for i in range(all_cooling.shape[2]):\n",
    "    mean_rmse.append(np.sqrt(mean_squared_error(all_cooling[:, 0, i], all_cooling[:, 1, i])))\n",
    "    mean_mae.append(mean_absolute_error(all_cooling[:, 0, i], all_cooling[:, 1, i]))\n",
    "    mean_mape.append(mean_absolute_percentage_error(all_cooling[:, 0, i], all_cooling[:, 1, i]))"
   ]
  },
  {
   "cell_type": "code",
   "execution_count": 20,
   "id": "3b9bcd2a",
   "metadata": {},
   "outputs": [
    {
     "name": "stdout",
     "output_type": "stream",
     "text": [
      "24-hour-ahead prediction - RMSE = 13.064277\n",
      "24-hour-ahead prediction - MAE = 11.004915\n"
     ]
    }
   ],
   "source": [
    "print('%d-hour-ahead prediction - RMSE = %f'%(24, np.mean(mean_rmse)))\n",
    "print('%d-hour-ahead prediction - MAE = %f'%(24, np.mean(mean_mae)))"
   ]
  },
  {
   "cell_type": "code",
   "execution_count": null,
   "id": "94d4f739",
   "metadata": {},
   "outputs": [],
   "source": []
  },
  {
   "cell_type": "code",
   "execution_count": null,
   "id": "16d2fe1e",
   "metadata": {},
   "outputs": [],
   "source": []
  },
  {
   "cell_type": "code",
   "execution_count": null,
   "id": "198e23e9",
   "metadata": {},
   "outputs": [],
   "source": []
  }
 ],
 "metadata": {
  "kernelspec": {
   "display_name": "Python 3",
   "language": "python",
   "name": "python3"
  },
  "language_info": {
   "codemirror_mode": {
    "name": "ipython",
    "version": 3
   },
   "file_extension": ".py",
   "mimetype": "text/x-python",
   "name": "python",
   "nbconvert_exporter": "python",
   "pygments_lexer": "ipython3",
   "version": "3.8.8"
  }
 },
 "nbformat": 4,
 "nbformat_minor": 5
}
